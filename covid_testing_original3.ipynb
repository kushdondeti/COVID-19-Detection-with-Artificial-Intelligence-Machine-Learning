{
  "nbformat": 4,
  "nbformat_minor": 0,
  "metadata": {
    "colab": {
      "name": "covid_testing_original3.ipynb",
      "provenance": [],
      "mount_file_id": "1hp2XJtqg1-dT0VgfNYDbh8MId8-azly3",
      "authorship_tag": "ABX9TyPP6qf392TXonM/1eA5cFVZ",
      "include_colab_link": true
    },
    "kernelspec": {
      "name": "python3",
      "display_name": "Python 3"
    },
    "language_info": {
      "name": "python"
    }
  },
  "cells": [
    {
      "cell_type": "markdown",
      "metadata": {
        "id": "view-in-github",
        "colab_type": "text"
      },
      "source": [
        "<a href=\"https://colab.research.google.com/github/kushdondeti/COVID-19-Detection-with-Artificial-Intelligence-Machine-Learning/blob/main/covid_testing_original3.ipynb\" target=\"_parent\"><img src=\"https://colab.research.google.com/assets/colab-badge.svg\" alt=\"Open In Colab\"/></a>"
      ]
    },
    {
      "cell_type": "code",
      "metadata": {
        "id": "MtpuXLHDvClK"
      },
      "source": [
        "import cv2\n",
        "import os\n",
        "import numpy as np\n",
        "from sklearn import preprocessing\n",
        "from sklearn.model_selection import train_test_split\n",
        "from tensorflow.keras.utils import to_categorical"
      ],
      "execution_count": 1,
      "outputs": []
    },
    {
      "cell_type": "code",
      "metadata": {
        "id": "26jmUXPXvGS2"
      },
      "source": [
        "def read_data(dataset_path='dataset'):\n",
        "    data = []\n",
        "    labels = []\n",
        "    classes = os.listdir(dataset_path)\n",
        "    for c in classes:\n",
        "        images_path = os.listdir(os.path.join(dataset_path, c))\n",
        "        for image_path in images_path:\n",
        "            # resize the images\n",
        "            image = cv2.imread(os.path.join(dataset_path, c, image_path))\n",
        "            image = cv2.cvtColor(image, cv2.COLOR_BGR2RGB)\n",
        "            image = cv2.resize(image, (299, 299))\n",
        "\n",
        "            # store images and labels\n",
        "            data.append(image)\n",
        "            labels.append(c)\n",
        "\n",
        "    data = np.array(data) / 255.\n",
        "    labels = np.array(labels)\n",
        "\n",
        "    le = preprocessing.LabelEncoder()\n",
        "    labels = le.fit_transform(labels)\n",
        "    labels = to_categorical(labels)\n",
        "\n",
        "    return data, labels, le.classes_"
      ],
      "execution_count": 2,
      "outputs": []
    },
    {
      "cell_type": "code",
      "metadata": {
        "id": "rphDtV0NvIFL"
      },
      "source": [
        "!cp -r /content/drive/MyDrive/AI_project ./"
      ],
      "execution_count": 3,
      "outputs": []
    },
    {
      "cell_type": "code",
      "metadata": {
        "colab": {
          "base_uri": "https://localhost:8080/"
        },
        "id": "uAJcuqOcvLCP",
        "outputId": "5b696035-1ed1-4203-f73e-1330724bb5f6"
      },
      "source": [
        "!unzip AI_project/dataset.zip"
      ],
      "execution_count": 5,
      "outputs": [
        {
          "output_type": "stream",
          "name": "stdout",
          "text": [
            "unzip:  cannot find or open AI_project/dataset.zip, AI_project/dataset.zip.zip or AI_project/dataset.zip.ZIP.\n"
          ]
        }
      ]
    },
    {
      "cell_type": "code",
      "metadata": {
        "colab": {
          "base_uri": "https://localhost:8080/"
        },
        "id": "BDqgqsiuvQSr",
        "outputId": "6585831f-eb84-4259-e576-36d48e522176"
      },
      "source": [
        "data, labels, class_names = read_data()\n",
        "print(data.shape)\n",
        "print(labels.shape)\n",
        "\n",
        "np.save('data.npy', data)\n",
        "np.save('labels.npy', labels)\n",
        "\n",
        "(X_train, X_test, y_train, y_test) = train_test_split(data, labels, test_size=0.2, stratify=labels, random_state=42)\n",
        "\n",
        "np.save('X_train.npy', X_train)\n",
        "np.save('y_train.npy', y_train)\n",
        "np.save('X_test.npy', X_test)\n",
        "np.save('y_test.npy', y_test)\n",
        "np.save('class_names.npy', class_names)"
      ],
      "execution_count": null,
      "outputs": [
        {
          "output_type": "stream",
          "text": [
            "(300, 299, 299, 3)\n",
            "(300, 3)\n"
          ],
          "name": "stdout"
        }
      ]
    },
    {
      "cell_type": "code",
      "metadata": {
        "id": "pzKNIqpEvQp0"
      },
      "source": [
        "import tensorflow as tf\n",
        "from sklearn.metrics import classification_report\n",
        "from sklearn.metrics import confusion_matrix\n",
        "import matplotlib.pyplot as plt\n",
        "import numpy as np"
      ],
      "execution_count": null,
      "outputs": []
    },
    {
      "cell_type": "code",
      "metadata": {
        "id": "xcxND8wrvVWH"
      },
      "source": [
        "epochs = 10\n",
        "bs = 8\n",
        "\n",
        "# load the data\n",
        "X_train = np.load('X_train.npy')\n",
        "y_train = np.load('y_train.npy')\n",
        "X_test = np.load('X_test.npy')\n",
        "y_test = np.load('y_test.npy')\n",
        "class_names = np.load('class_names.npy')"
      ],
      "execution_count": null,
      "outputs": []
    },
    {
      "cell_type": "code",
      "metadata": {
        "id": "xAeCOL22vVlU"
      },
      "source": [
        "data_generator = tf.keras.preprocessing.image.ImageDataGenerator()"
      ],
      "execution_count": null,
      "outputs": []
    },
    {
      "cell_type": "code",
      "metadata": {
        "colab": {
          "base_uri": "https://localhost:8080/"
        },
        "id": "esA5Qhk2vXII",
        "outputId": "0021f44c-feef-4faa-8589-f271e350e60a"
      },
      "source": [
        "vgg = tf.keras.applications.VGG16(weights=\"imagenet\",\n",
        "\t\t\t\t\t\t\t\t\tinclude_top=False,\n",
        "\t\t\t\t\t\t\t\t\tinput_tensor=tf.keras.Input(shape=(299, 299, 3)))\n",
        "\n",
        "# freeze the weights of VGG 16\n",
        "vgg.trainable = False\n",
        "\n",
        "# add some more layers to the feature extraction model\n",
        "x = tf.keras.layers.AveragePooling2D(pool_size=(3, 3))(vgg.output)\n",
        "x = tf.keras.layers.Flatten(name=\"flatten\")(x)\n",
        "x = tf.keras.layers.Dense(512, activation=\"relu\")(x)\n",
        "# x = tf.keras.layers.Dropout(0.5)(x)\n",
        "x = tf.keras.layers.Dense(512, activation=\"relu\")(x)\n",
        "\n",
        "prediction = tf.keras.layers.Dense(3, activation=\"softmax\")(x)\n",
        "\n",
        "# build the final model\n",
        "model = tf.keras.Model(inputs=vgg.input, outputs=prediction)\n",
        "\n",
        "# show model architecture\n",
        "model.summary()"
      ],
      "execution_count": null,
      "outputs": [
        {
          "output_type": "stream",
          "text": [
            "Downloading data from https://storage.googleapis.com/tensorflow/keras-applications/vgg16/vgg16_weights_tf_dim_ordering_tf_kernels_notop.h5\n",
            "58892288/58889256 [==============================] - 1s 0us/step\n",
            "Model: \"model\"\n",
            "_________________________________________________________________\n",
            "Layer (type)                 Output Shape              Param #   \n",
            "=================================================================\n",
            "input_1 (InputLayer)         [(None, 299, 299, 3)]     0         \n",
            "_________________________________________________________________\n",
            "block1_conv1 (Conv2D)        (None, 299, 299, 64)      1792      \n",
            "_________________________________________________________________\n",
            "block1_conv2 (Conv2D)        (None, 299, 299, 64)      36928     \n",
            "_________________________________________________________________\n",
            "block1_pool (MaxPooling2D)   (None, 149, 149, 64)      0         \n",
            "_________________________________________________________________\n",
            "block2_conv1 (Conv2D)        (None, 149, 149, 128)     73856     \n",
            "_________________________________________________________________\n",
            "block2_conv2 (Conv2D)        (None, 149, 149, 128)     147584    \n",
            "_________________________________________________________________\n",
            "block2_pool (MaxPooling2D)   (None, 74, 74, 128)       0         \n",
            "_________________________________________________________________\n",
            "block3_conv1 (Conv2D)        (None, 74, 74, 256)       295168    \n",
            "_________________________________________________________________\n",
            "block3_conv2 (Conv2D)        (None, 74, 74, 256)       590080    \n",
            "_________________________________________________________________\n",
            "block3_conv3 (Conv2D)        (None, 74, 74, 256)       590080    \n",
            "_________________________________________________________________\n",
            "block3_pool (MaxPooling2D)   (None, 37, 37, 256)       0         \n",
            "_________________________________________________________________\n",
            "block4_conv1 (Conv2D)        (None, 37, 37, 512)       1180160   \n",
            "_________________________________________________________________\n",
            "block4_conv2 (Conv2D)        (None, 37, 37, 512)       2359808   \n",
            "_________________________________________________________________\n",
            "block4_conv3 (Conv2D)        (None, 37, 37, 512)       2359808   \n",
            "_________________________________________________________________\n",
            "block4_pool (MaxPooling2D)   (None, 18, 18, 512)       0         \n",
            "_________________________________________________________________\n",
            "block5_conv1 (Conv2D)        (None, 18, 18, 512)       2359808   \n",
            "_________________________________________________________________\n",
            "block5_conv2 (Conv2D)        (None, 18, 18, 512)       2359808   \n",
            "_________________________________________________________________\n",
            "block5_conv3 (Conv2D)        (None, 18, 18, 512)       2359808   \n",
            "_________________________________________________________________\n",
            "block5_pool (MaxPooling2D)   (None, 9, 9, 512)         0         \n",
            "_________________________________________________________________\n",
            "average_pooling2d (AveragePo (None, 3, 3, 512)         0         \n",
            "_________________________________________________________________\n",
            "flatten (Flatten)            (None, 4608)              0         \n",
            "_________________________________________________________________\n",
            "dense (Dense)                (None, 512)               2359808   \n",
            "_________________________________________________________________\n",
            "dense_1 (Dense)              (None, 512)               262656    \n",
            "_________________________________________________________________\n",
            "dense_2 (Dense)              (None, 3)                 1539      \n",
            "=================================================================\n",
            "Total params: 17,338,691\n",
            "Trainable params: 2,624,003\n",
            "Non-trainable params: 14,714,688\n",
            "_________________________________________________________________\n"
          ],
          "name": "stdout"
        }
      ]
    },
    {
      "cell_type": "code",
      "metadata": {
        "colab": {
          "base_uri": "https://localhost:8080/"
        },
        "id": "hnvwvGfSvexb",
        "outputId": "13892999-ac40-410c-bf4b-8845087e842e"
      },
      "source": [
        "# define loss and optimizer\n",
        "model.compile(loss=\"categorical_crossentropy\", optimizer=tf.keras.optimizers.Adam(lr=1e-4), metrics=[\"accuracy\"])\n",
        "\n",
        "# train the model\n",
        "training_history = model.fit(data_generator.flow(X_train, y_train, batch_size=bs),\n",
        "\t\t\t\t\t\t\t steps_per_epoch=len(X_train) // bs,\n",
        "\t\t\t\t\t\t\t validation_data=(X_test, y_test),\n",
        "\t\t\t\t\t\t\t validation_steps=len(X_test) // bs,\n",
        "\t\t\t\t\t\t\t epochs=epochs)"
      ],
      "execution_count": null,
      "outputs": [
        {
          "output_type": "stream",
          "text": [
            "/usr/local/lib/python3.7/dist-packages/tensorflow/python/keras/optimizer_v2/optimizer_v2.py:375: UserWarning: The `lr` argument is deprecated, use `learning_rate` instead.\n",
            "  \"The `lr` argument is deprecated, use `learning_rate` instead.\")\n"
          ],
          "name": "stderr"
        },
        {
          "output_type": "stream",
          "text": [
            "Epoch 1/10\n",
            "30/30 [==============================] - 230s 8s/step - loss: 0.8762 - accuracy: 0.6042 - val_loss: 0.7012 - val_accuracy: 0.6500\n",
            "Epoch 2/10\n",
            "30/30 [==============================] - 229s 8s/step - loss: 0.5662 - accuracy: 0.7125 - val_loss: 0.5476 - val_accuracy: 0.8000\n",
            "Epoch 3/10\n",
            "30/30 [==============================] - 229s 8s/step - loss: 0.4815 - accuracy: 0.7667 - val_loss: 0.4843 - val_accuracy: 0.8167\n",
            "Epoch 4/10\n",
            "30/30 [==============================] - 230s 8s/step - loss: 0.4878 - accuracy: 0.7458 - val_loss: 0.4679 - val_accuracy: 0.8333\n",
            "Epoch 5/10\n",
            "30/30 [==============================] - 231s 8s/step - loss: 0.4008 - accuracy: 0.8208 - val_loss: 0.4917 - val_accuracy: 0.7167\n",
            "Epoch 6/10\n",
            "30/30 [==============================] - 230s 8s/step - loss: 0.3902 - accuracy: 0.8083 - val_loss: 0.4411 - val_accuracy: 0.7667\n",
            "Epoch 7/10\n",
            "30/30 [==============================] - 230s 8s/step - loss: 0.3342 - accuracy: 0.8625 - val_loss: 0.4588 - val_accuracy: 0.7500\n",
            "Epoch 8/10\n",
            "30/30 [==============================] - 229s 8s/step - loss: 0.3025 - accuracy: 0.8833 - val_loss: 0.4944 - val_accuracy: 0.6833\n",
            "Epoch 9/10\n",
            "30/30 [==============================] - 229s 8s/step - loss: 0.2967 - accuracy: 0.8875 - val_loss: 0.4177 - val_accuracy: 0.8167\n",
            "Epoch 10/10\n",
            "30/30 [==============================] - 229s 8s/step - loss: 0.2680 - accuracy: 0.9042 - val_loss: 0.4165 - val_accuracy: 0.8000\n"
          ],
          "name": "stdout"
        }
      ]
    },
    {
      "cell_type": "code",
      "metadata": {
        "colab": {
          "base_uri": "https://localhost:8080/"
        },
        "id": "honBqSIsviG2",
        "outputId": "b677201f-fc99-4ab8-ca4d-dbdbbee13c91"
      },
      "source": [
        "# make predictions on the test set\n",
        "pred_test = model.predict(X_test, batch_size=bs)\n",
        "\n",
        "# find labels for the test set\n",
        "pred_test_label = np.argmax(pred_test, axis=1)\n",
        "\n",
        "# show classification report\n",
        "print(classification_report(y_test.argmax(axis=1), pred_test_label, target_names=class_names))\n",
        "\n",
        "# compute the confusion matrix\n",
        "print(confusion_matrix(y_test.argmax(axis=1), pred_test_label))"
      ],
      "execution_count": null,
      "outputs": [
        {
          "output_type": "stream",
          "text": [
            "              precision    recall  f1-score   support\n",
            "\n",
            "     covid19       0.75      0.60      0.67        20\n",
            "      normal       1.00      1.00      1.00        20\n",
            "      others       0.67      0.80      0.73        20\n",
            "\n",
            "    accuracy                           0.80        60\n",
            "   macro avg       0.81      0.80      0.80        60\n",
            "weighted avg       0.81      0.80      0.80        60\n",
            "\n",
            "[[12  0  8]\n",
            " [ 0 20  0]\n",
            " [ 4  0 16]]\n"
          ],
          "name": "stdout"
        }
      ]
    },
    {
      "cell_type": "code",
      "metadata": {
        "colab": {
          "base_uri": "https://localhost:8080/",
          "height": 299
        },
        "id": "61xPhx6uvlNG",
        "outputId": "989c55a3-fd0d-4c6c-dda8-913e753098d5"
      },
      "source": [
        "# plot the training and test loss and accuracy\n",
        "plt.style.use(\"ggplot\")\n",
        "plt.figure()\n",
        "plt.plot(np.arange(0, epochs), training_history.history[\"loss\"], label=\"Training Loss\")\n",
        "plt.plot(np.arange(0, epochs), training_history.history[\"val_loss\"], label=\"Test Loss\")\n",
        "plt.plot(np.arange(0, epochs), training_history.history[\"accuracy\"], label=\"Training Accuracy\")\n",
        "plt.plot(np.arange(0, epochs), training_history.history[\"val_accuracy\"], label=\"Test Accuracy\")\n",
        "plt.title(\"Training Loss and Accuracy on COVID-19 Dataset\")\n",
        "plt.xlabel(\"Epoch\")\n",
        "plt.ylabel(\"Loss/Accuracy\")\n",
        "plt.legend(loc=\"best\")\n",
        "plt.savefig(\"plot1.png\")"
      ],
      "execution_count": null,
      "outputs": [
        {
          "output_type": "display_data",
          "data": {
            "image/png": "[encoded data removed]",
            "text/plain": [
              "<Figure size 432x288 with 1 Axes>"
            ]
          },
          "metadata": {
            "tags": []
          }
        }
      ]
    },
    {
      "cell_type": "code",
      "metadata": {
        "id": "fYlDfEqhvmuK"
      },
      "source": [
        "model.save(\"covid19_detector1.h5\")"
      ],
      "execution_count": null,
      "outputs": []
    },
    {
      "cell_type": "code",
      "metadata": {
        "id": "01VmeWsevoj5"
      },
      "source": [
        "# unfreeze the weights of model\n",
        "inception.trainable = True\n",
        "set_trainable = False\n",
        "\n",
        "for layer in inception.layers:\n",
        "    if layer.name == 'conv2d_185':\n",
        "        set_trainable = True\n",
        "    if set_trainable:\n",
        "        layer.trainable = True\n",
        "    else:\n",
        "        layer.trainable = False\n",
        "\n",
        "\n",
        "# define loss and optimizer\n",
        "model.compile(loss=\"categorical_crossentropy\", optimizer=tf.keras.optimizers.Adam(lr=1e-6), metrics=[\"accuracy\"])\n",
        "epochs = epochs // 2\n",
        "# train the model\n",
        "training_history = model.fit(data_generator.flow(X_train, y_train, batch_size=bs),\n",
        "\t\t\t\t\t\t\t steps_per_epoch=len(X_train) // bs,\n",
        "\t\t\t\t\t\t\t validation_data=(X_test, y_test),\n",
        "\t\t\t\t\t\t\t validation_steps=len(X_test) // bs,\n",
        "\t\t\t\t\t\t\t epochs=5)"
      ],
      "execution_count": null,
      "outputs": []
    },
    {
      "cell_type": "code",
      "metadata": {
        "id": "rZiD4iDVvtIf"
      },
      "source": [
        "# make predictions on the test set\n",
        "pred_test = model.predict(X_test, batch_size=bs)\n",
        "\n",
        "# find labels for the test set\n",
        "pred_test_label = np.argmax(pred_test, axis=1)\n",
        "\n",
        "# show classification report\n",
        "print(classification_report(y_test.argmax(axis=1), pred_test_label, target_names=class_names))\n",
        "\n",
        "# compute the confusion matrix\n",
        "print(confusion_matrix(y_test.argmax(axis=1), pred_test_label))"
      ],
      "execution_count": null,
      "outputs": []
    },
    {
      "cell_type": "code",
      "metadata": {
        "id": "ofMP7cgNvtqq"
      },
      "source": [
        "# plot the training and test loss and accuracy\n",
        "plt.style.use(\"ggplot\")\n",
        "plt.figure()\n",
        "plt.plot(np.arange(0, epochs), training_history.history[\"loss\"], label=\"Training Loss\")\n",
        "plt.plot(np.arange(0, epochs), training_history.history[\"val_loss\"], label=\"Test Loss\")\n",
        "plt.plot(np.arange(0, epochs), training_history.history[\"accuracy\"], label=\"Training Accuracy\")\n",
        "plt.plot(np.arange(0, epochs), training_history.history[\"val_accuracy\"], label=\"Test Accuracy\")\n",
        "plt.title(\"Training Loss and Accuracy on COVID-19 Dataset\")\n",
        "plt.xlabel(\"Epoch\")\n",
        "plt.ylabel(\"Loss/Accuracy\")\n",
        "plt.legend(loc=\"best\")\n",
        "plt.savefig(\"plot2.png\")"
      ],
      "execution_count": null,
      "outputs": []
    },
    {
      "cell_type": "code",
      "metadata": {
        "id": "XdDp9pICvvFV"
      },
      "source": [
        "# save model\n",
        "model.save(\"covid19_detector.h5\")"
      ],
      "execution_count": null,
      "outputs": []
    }
  ]
}